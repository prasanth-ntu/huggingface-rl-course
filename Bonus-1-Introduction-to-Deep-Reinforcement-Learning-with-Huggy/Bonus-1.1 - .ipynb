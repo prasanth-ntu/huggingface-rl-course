{
 "cells": [
  {
   "cell_type": "markdown",
   "id": "483cbb05",
   "metadata": {
    "toc": true
   },
   "source": [
    "<h1>Table of Contents<span class=\"tocSkip\"></span></h1>\n",
    "<div class=\"toc\"><ul class=\"toc-item\"><li><span><a href=\"#Introduction\" data-toc-modified-id=\"Introduction-1\"><span class=\"toc-item-num\">1&nbsp;&nbsp;</span>Introduction</a></span></li><li><span><a href=\"#How-Huggy-works?\" data-toc-modified-id=\"How-Huggy-works?-2\"><span class=\"toc-item-num\">2&nbsp;&nbsp;</span>How Huggy works?</a></span><ul class=\"toc-item\"><li><span><a href=\"#The-State-Space,-what-Huggy-perceives.\" data-toc-modified-id=\"The-State-Space,-what-Huggy-perceives.-2.1\"><span class=\"toc-item-num\">2.1&nbsp;&nbsp;</span>The State Space, what Huggy perceives.</a></span></li><li><span><a href=\"#The-Action-Space,-what-moves-Huggy-can-perform\" data-toc-modified-id=\"The-Action-Space,-what-moves-Huggy-can-perform-2.2\"><span class=\"toc-item-num\">2.2&nbsp;&nbsp;</span>The Action Space, what moves Huggy can perform</a></span></li><li><span><a href=\"#The-Reward-Function\" data-toc-modified-id=\"The-Reward-Function-2.3\"><span class=\"toc-item-num\">2.3&nbsp;&nbsp;</span>The Reward Function</a></span></li><li><span><a href=\"#Train-Huggy\" data-toc-modified-id=\"Train-Huggy-2.4\"><span class=\"toc-item-num\">2.4&nbsp;&nbsp;</span>Train Huggy</a></span></li></ul></li><li><span><a href=\"#Train-Huggy\" data-toc-modified-id=\"Train-Huggy-3\"><span class=\"toc-item-num\">3&nbsp;&nbsp;</span>Train Huggy</a></span></li><li><span><a href=\"#Play-with-Huggy\" data-toc-modified-id=\"Play-with-Huggy-4\"><span class=\"toc-item-num\">4&nbsp;&nbsp;</span>Play with Huggy</a></span></li><li><span><a href=\"#Conclusion\" data-toc-modified-id=\"Conclusion-5\"><span class=\"toc-item-num\">5&nbsp;&nbsp;</span>Conclusion</a></span></li></ul></div>"
   ]
  },
  {
   "cell_type": "markdown",
   "id": "76a0b261",
   "metadata": {},
   "source": [
    "# Introduction"
   ]
  },
  {
   "cell_type": "markdown",
   "id": "dda21c70",
   "metadata": {},
   "source": [
    "We will teach Huggy the Dog to fetch the stick and then play with him [directly in our browser 🐶](https://huggingface.co/spaces/ThomasSimonini/Huggy)"
   ]
  },
  {
   "cell_type": "markdown",
   "id": "91ad5436",
   "metadata": {},
   "source": [
    "# How Huggy works?"
   ]
  },
  {
   "cell_type": "markdown",
   "id": "f300a9e5",
   "metadata": {},
   "source": [
    "<b>Huggy</b> is a Deep Reinforcement Learning environment made by Hugging Face\n",
    "\n",
    "In this environment we aim to <b>train Huggy to fetch the stick we throw<. This means he needs to move correctly toward the stick.</b>"
   ]
  },
  {
   "cell_type": "markdown",
   "id": "aeaf5171",
   "metadata": {},
   "source": [
    "## The State Space, what Huggy perceives."
   ]
  },
  {
   "cell_type": "markdown",
   "id": "5fb173cc",
   "metadata": {},
   "source": [
    "Huggy doesn't \"see\" his environment. Instead, we provide him information about the environment:\n",
    "- The target (stick) position\n",
    "- The relative position between himself and the target\n",
    "- The orientation of his legs.\n",
    "\n",
    "Given all this information, Huggy can <b>use his policy to determine which action to take next to fulfill his goal</b>."
   ]
  },
  {
   "cell_type": "markdown",
   "id": "dbbbc854",
   "metadata": {},
   "source": [
    "## The Action Space, what moves Huggy can perform"
   ]
  },
  {
   "cell_type": "markdown",
   "id": "9043c085",
   "metadata": {},
   "source": []
  },
  {
   "cell_type": "markdown",
   "id": "40680068",
   "metadata": {},
   "source": [
    "## The Reward Function"
   ]
  },
  {
   "cell_type": "markdown",
   "id": "2c955856",
   "metadata": {},
   "source": []
  },
  {
   "cell_type": "markdown",
   "id": "daca53f2",
   "metadata": {},
   "source": [
    "## Train Huggy"
   ]
  },
  {
   "cell_type": "markdown",
   "id": "8cb9df47",
   "metadata": {},
   "source": []
  },
  {
   "cell_type": "markdown",
   "id": "f22c1cd2",
   "metadata": {},
   "source": [
    "# Train Huggy"
   ]
  },
  {
   "cell_type": "code",
   "execution_count": null,
   "id": "0008836f",
   "metadata": {},
   "outputs": [],
   "source": []
  },
  {
   "cell_type": "markdown",
   "id": "52d9e6c9",
   "metadata": {},
   "source": [
    "# Play with Huggy"
   ]
  },
  {
   "cell_type": "markdown",
   "id": "54960df9",
   "metadata": {},
   "source": [
    "# Conclusion"
   ]
  },
  {
   "cell_type": "code",
   "execution_count": null,
   "id": "6ef565fd",
   "metadata": {},
   "outputs": [],
   "source": []
  }
 ],
 "metadata": {
  "kernelspec": {
   "display_name": "fastai_related",
   "language": "python",
   "name": "fastai_related"
  },
  "language_info": {
   "codemirror_mode": {
    "name": "ipython",
    "version": 3
   },
   "file_extension": ".py",
   "mimetype": "text/x-python",
   "name": "python",
   "nbconvert_exporter": "python",
   "pygments_lexer": "ipython3",
   "version": "3.10.5"
  },
  "toc": {
   "base_numbering": 1,
   "nav_menu": {},
   "number_sections": true,
   "sideBar": true,
   "skip_h1_title": false,
   "title_cell": "Table of Contents",
   "title_sidebar": "Contents",
   "toc_cell": true,
   "toc_position": {
    "height": "796px",
    "left": "26px",
    "top": "0px",
    "width": "384px"
   },
   "toc_section_display": true,
   "toc_window_display": true
  }
 },
 "nbformat": 4,
 "nbformat_minor": 5
}
